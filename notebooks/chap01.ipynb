{
  "nbformat": 4,
  "nbformat_minor": 0,
  "metadata": {
    "celltoolbar": "Tags",
    "kernelspec": {
      "display_name": "Python 3",
      "language": "python",
      "name": "python3"
    },
    "language_info": {
      "codemirror_mode": {
        "name": "ipython",
        "version": 3
      },
      "file_extension": ".py",
      "mimetype": "text/x-python",
      "name": "python",
      "nbconvert_exporter": "python",
      "pygments_lexer": "ipython3",
      "version": "3.8.8"
    },
    "colab": {
      "name": "chap01.ipynb",
      "provenance": [],
      "toc_visible": true,
      "include_colab_link": true
    }
  },
  "cells": [
    {
      "cell_type": "markdown",
      "metadata": {
        "id": "view-in-github",
        "colab_type": "text"
      },
      "source": [
        "<a href=\"https://colab.research.google.com/github/rvmoura96/think-bayes-2/blob/main/notebooks/chap01.ipynb\" target=\"_parent\"><img src=\"https://colab.research.google.com/assets/colab-badge.svg\" alt=\"Open In Colab\"/></a>"
      ]
    },
    {
      "cell_type": "markdown",
      "metadata": {
        "id": "b8HnKXy3nt5c"
      },
      "source": [
        "# Probability"
      ]
    },
    {
      "cell_type": "markdown",
      "metadata": {
        "tags": [],
        "id": "cNgHG3kOnt5l"
      },
      "source": [
        "Think Bayes, Second Edition\n",
        "\n",
        "Copyright 2020 Allen B. Downey\n",
        "\n",
        "License: [Attribution-NonCommercial-ShareAlike 4.0 International (CC BY-NC-SA 4.0)](https://creativecommons.org/licenses/by-nc-sa/4.0/)"
      ]
    },
    {
      "cell_type": "markdown",
      "metadata": {
        "id": "oyqraC75nt5m"
      },
      "source": [
        "The foundation of Bayesian statistics is Bayes's Theorem, and the foundation of Bayes's Theorem is conditional probability.  \n",
        "\n",
        "In this chapter, we'll start with conditional probability, derive Bayes's Theorem, and demonstrate it using a real dataset.  In the next chapter, we'll use Bayes's Theorem to solve problems related to conditional probability.  In the chapters that follow, we'll make the transition from Bayes's Theorem to Bayesian statistics, and I'll explain the difference."
      ]
    },
    {
      "cell_type": "markdown",
      "metadata": {
        "id": "ibcZneGWnt5n"
      },
      "source": [
        "## Linda the Banker\n",
        "\n",
        "To introduce conditional probability, I'll use an example from a [famous experiment by Tversky and Kahneman](https://en.wikipedia.org/wiki/Conjunction_fallacy), who posed the following question:\n",
        "\n",
        "> Linda is 31 years old, single, outspoken, and very bright. She majored in philosophy. As a student, she was deeply concerned with issues of discrimination and social justice, and also participated in anti-nuclear demonstrations.  Which is more probable?\n",
        "> 1. Linda is a bank teller.\n",
        "> 2. Linda is a bank teller and is active in the feminist movement.\n",
        "\n",
        "Many people choose the second answer, presumably because it seems more consistent with the description.  It seems uncharacteristic if Linda is *just* a bank teller; it seems more consistent if she is also a feminist."
      ]
    },
    {
      "cell_type": "markdown",
      "metadata": {
        "id": "NyQeMN5ent5n"
      },
      "source": [
        "But the second answer cannot be \"more probable\", as the question asks.  Suppose we find 1000 people who fit Linda's description and 10 of them work as bank tellers.  How many of them are also feminists?  At most, all 10 of them are; in that case, the two options are *equally* probable.  If fewer than 10 are, the second option is *less* probable.  But there is no way the second option can be *more* probable.\n",
        "\n",
        "If you were inclined to choose the second option, you are in good company.  The biologist [Stephen J. Gould wrote](https://doi.org/10.1080/09332480.1989.10554932) :\n",
        "\n",
        "> I am particularly fond of this example because I know that the [second] statement is least probable, yet a little [homunculus](https://en.wikipedia.org/wiki/Homunculus_argument) in my head continues to jump up and down, shouting at me, \"but she can't just be a bank teller; read the description.\"\n",
        "\n",
        "If the little person in your head is still unhappy, maybe this chapter will help."
      ]
    },
    {
      "cell_type": "markdown",
      "metadata": {
        "id": "vy7fqKD7nt5o"
      },
      "source": [
        "## Probability\n",
        "\n",
        "At this point I should provide a definition of \"probability\", but that [turns out to be surprisingly difficult](https://en.wikipedia.org/wiki/Probability_interpretations).  To avoid getting stuck before we start, we will use a simple definition for now and refine it later: A **probability** is a fraction of a finite set.\n",
        "\n",
        "For example, if we survey 1000 people, and 20 of them are bank tellers, the fraction that work as bank tellers is 0.02 or 2\\%.  If we choose a person from this population at random, the probability that they are a bank teller is 2\\%.\n",
        "By \"at random\" I mean that every person in the dataset has the same chance of being chosen.\n",
        "\n",
        "With this definition and an appropriate dataset, we can compute probabilities by counting.\n",
        "To demonstrate, I'll use data from the [General Social Survey](http://gss.norc.org/) (GSS).  "
      ]
    },
    {
      "cell_type": "markdown",
      "metadata": {
        "tags": [],
        "id": "u8ta20IAnt5o"
      },
      "source": [
        "The following cell downloads the data."
      ]
    },
    {
      "cell_type": "code",
      "metadata": {
        "execution": {
          "iopub.execute_input": "2021-04-16T19:35:08.628591Z",
          "iopub.status.busy": "2021-04-16T19:35:08.627766Z",
          "iopub.status.idle": "2021-04-16T19:35:08.630508Z",
          "shell.execute_reply": "2021-04-16T19:35:08.629988Z"
        },
        "tags": [],
        "id": "PVgq2_K8nt5p",
        "outputId": "ba8ad32d-0adb-441a-ffae-0f71d05839ee",
        "colab": {
          "base_uri": "https://localhost:8080/"
        }
      },
      "source": [
        "# Load the data file\n",
        "\n",
        "import os\n",
        "\n",
        "if not os.path.exists('gss_bayes.csv'):\n",
        "    !wget https://github.com/AllenDowney/BiteSizeBayes/raw/master/gss_bayes.csv"
      ],
      "execution_count": 1,
      "outputs": [
        {
          "output_type": "stream",
          "text": [
            "--2021-05-01 20:43:52--  https://github.com/AllenDowney/BiteSizeBayes/raw/master/gss_bayes.csv\n",
            "Resolving github.com (github.com)... 140.82.114.4\n",
            "Connecting to github.com (github.com)|140.82.114.4|:443... connected.\n",
            "HTTP request sent, awaiting response... 302 Found\n",
            "Location: https://raw.githubusercontent.com/AllenDowney/BiteSizeBayes/master/gss_bayes.csv [following]\n",
            "--2021-05-01 20:43:52--  https://raw.githubusercontent.com/AllenDowney/BiteSizeBayes/master/gss_bayes.csv\n",
            "Resolving raw.githubusercontent.com (raw.githubusercontent.com)... 185.199.108.133, 185.199.109.133, 185.199.110.133, ...\n",
            "Connecting to raw.githubusercontent.com (raw.githubusercontent.com)|185.199.108.133|:443... connected.\n",
            "HTTP request sent, awaiting response... 200 OK\n",
            "Length: 1546290 (1.5M) [text/plain]\n",
            "Saving to: ‘gss_bayes.csv’\n",
            "\n",
            "gss_bayes.csv       100%[===================>]   1.47M  --.-KB/s    in 0.09s   \n",
            "\n",
            "2021-05-01 20:43:52 (16.9 MB/s) - ‘gss_bayes.csv’ saved [1546290/1546290]\n",
            "\n"
          ],
          "name": "stdout"
        }
      ]
    },
    {
      "cell_type": "markdown",
      "metadata": {
        "id": "0pN1GDeJnt5p"
      },
      "source": [
        "I'll use Pandas to read the data and store it in a `DataFrame`."
      ]
    },
    {
      "cell_type": "code",
      "metadata": {
        "execution": {
          "iopub.execute_input": "2021-04-16T19:35:08.634488Z",
          "iopub.status.busy": "2021-04-16T19:35:08.633720Z",
          "iopub.status.idle": "2021-04-16T19:35:09.081049Z",
          "shell.execute_reply": "2021-04-16T19:35:09.081454Z"
        },
        "id": "_0QZs8sknt5r",
        "outputId": "10ad53ff-77eb-4af1-d74a-0fbe04b72b3a",
        "colab": {
          "base_uri": "https://localhost:8080/",
          "height": 238
        }
      },
      "source": [
        "import pandas as pd\n",
        "\n",
        "gss = pd.read_csv('gss_bayes.csv', index_col=0)\n",
        "gss.head()"
      ],
      "execution_count": 2,
      "outputs": [
        {
          "output_type": "execute_result",
          "data": {
            "text/html": [
              "<div>\n",
              "<style scoped>\n",
              "    .dataframe tbody tr th:only-of-type {\n",
              "        vertical-align: middle;\n",
              "    }\n",
              "\n",
              "    .dataframe tbody tr th {\n",
              "        vertical-align: top;\n",
              "    }\n",
              "\n",
              "    .dataframe thead th {\n",
              "        text-align: right;\n",
              "    }\n",
              "</style>\n",
              "<table border=\"1\" class=\"dataframe\">\n",
              "  <thead>\n",
              "    <tr style=\"text-align: right;\">\n",
              "      <th></th>\n",
              "      <th>year</th>\n",
              "      <th>age</th>\n",
              "      <th>sex</th>\n",
              "      <th>polviews</th>\n",
              "      <th>partyid</th>\n",
              "      <th>indus10</th>\n",
              "    </tr>\n",
              "    <tr>\n",
              "      <th>caseid</th>\n",
              "      <th></th>\n",
              "      <th></th>\n",
              "      <th></th>\n",
              "      <th></th>\n",
              "      <th></th>\n",
              "      <th></th>\n",
              "    </tr>\n",
              "  </thead>\n",
              "  <tbody>\n",
              "    <tr>\n",
              "      <th>1</th>\n",
              "      <td>1974</td>\n",
              "      <td>21.0</td>\n",
              "      <td>1</td>\n",
              "      <td>4.0</td>\n",
              "      <td>2.0</td>\n",
              "      <td>4970.0</td>\n",
              "    </tr>\n",
              "    <tr>\n",
              "      <th>2</th>\n",
              "      <td>1974</td>\n",
              "      <td>41.0</td>\n",
              "      <td>1</td>\n",
              "      <td>5.0</td>\n",
              "      <td>0.0</td>\n",
              "      <td>9160.0</td>\n",
              "    </tr>\n",
              "    <tr>\n",
              "      <th>5</th>\n",
              "      <td>1974</td>\n",
              "      <td>58.0</td>\n",
              "      <td>2</td>\n",
              "      <td>6.0</td>\n",
              "      <td>1.0</td>\n",
              "      <td>2670.0</td>\n",
              "    </tr>\n",
              "    <tr>\n",
              "      <th>6</th>\n",
              "      <td>1974</td>\n",
              "      <td>30.0</td>\n",
              "      <td>1</td>\n",
              "      <td>5.0</td>\n",
              "      <td>4.0</td>\n",
              "      <td>6870.0</td>\n",
              "    </tr>\n",
              "    <tr>\n",
              "      <th>7</th>\n",
              "      <td>1974</td>\n",
              "      <td>48.0</td>\n",
              "      <td>1</td>\n",
              "      <td>5.0</td>\n",
              "      <td>4.0</td>\n",
              "      <td>7860.0</td>\n",
              "    </tr>\n",
              "  </tbody>\n",
              "</table>\n",
              "</div>"
            ],
            "text/plain": [
              "        year   age  sex  polviews  partyid  indus10\n",
              "caseid                                             \n",
              "1       1974  21.0    1       4.0      2.0   4970.0\n",
              "2       1974  41.0    1       5.0      0.0   9160.0\n",
              "5       1974  58.0    2       6.0      1.0   2670.0\n",
              "6       1974  30.0    1       5.0      4.0   6870.0\n",
              "7       1974  48.0    1       5.0      4.0   7860.0"
            ]
          },
          "metadata": {
            "tags": []
          },
          "execution_count": 2
        }
      ]
    },
    {
      "cell_type": "markdown",
      "metadata": {
        "id": "ukvpZZignt5r"
      },
      "source": [
        "The `DataFrame` has one row for each person surveyed and one column for each variable I selected.\n",
        "\n",
        "The columns are\n",
        "\n",
        "* `caseid`: Respondent id (which is the index of the table).\n",
        "\n",
        "* `year`: Year when the respondent was surveyed.\n",
        "\n",
        "* `age`: Respondent's age when surveyed.\n",
        "\n",
        "* `sex`: Male or female.\n",
        "\n",
        "* `polviews`: Political views on a range from liberal to conservative.\n",
        "\n",
        "* `partyid`: Political party affiliation, Democrat, Independent, or Republican.\n",
        "\n",
        "* `indus10`: [Code](https://www.census.gov/cgi-bin/sssd/naics/naicsrch?chart=2007) for the industry the respondent works in.\n",
        "\n",
        "Let's look at these variables in more detail, starting with `indus10`."
      ]
    },
    {
      "cell_type": "markdown",
      "metadata": {
        "id": "rJlDPkx_nt5s"
      },
      "source": [
        "## Fraction of Bankers\n",
        "\n",
        "The code for \"Banking and related activities\" is 6870, so we can select bankers like this:"
      ]
    },
    {
      "cell_type": "code",
      "metadata": {
        "execution": {
          "iopub.execute_input": "2021-04-16T19:35:09.085579Z",
          "iopub.status.busy": "2021-04-16T19:35:09.084990Z",
          "iopub.status.idle": "2021-04-16T19:35:09.096470Z",
          "shell.execute_reply": "2021-04-16T19:35:09.095986Z"
        },
        "id": "RcDYpsoXnt5s",
        "outputId": "36c5aec8-c32f-443f-aaef-901d2dbf3bcf",
        "colab": {
          "base_uri": "https://localhost:8080/"
        }
      },
      "source": [
        "banker = (gss['indus10'] == 6870)\n",
        "banker.head()"
      ],
      "execution_count": 3,
      "outputs": [
        {
          "output_type": "execute_result",
          "data": {
            "text/plain": [
              "caseid\n",
              "1    False\n",
              "2    False\n",
              "5    False\n",
              "6     True\n",
              "7    False\n",
              "Name: indus10, dtype: bool"
            ]
          },
          "metadata": {
            "tags": []
          },
          "execution_count": 3
        }
      ]
    },
    {
      "cell_type": "markdown",
      "metadata": {
        "id": "Bp7RT1A2nt5s"
      },
      "source": [
        "The result is a Pandas `Series` that contains the Boolean values `True` and `False`.\n",
        "\n",
        "If we use the `sum` function on this `Series`, it treats `True` as 1 and `False` as 0, so the total is the number of bankers."
      ]
    },
    {
      "cell_type": "code",
      "metadata": {
        "execution": {
          "iopub.execute_input": "2021-04-16T19:35:09.100573Z",
          "iopub.status.busy": "2021-04-16T19:35:09.100000Z",
          "iopub.status.idle": "2021-04-16T19:35:09.103808Z",
          "shell.execute_reply": "2021-04-16T19:35:09.103159Z"
        },
        "id": "AGE94JBrnt5s",
        "outputId": "15f7f80b-7090-48bd-f94e-7c7545d20692",
        "colab": {
          "base_uri": "https://localhost:8080/"
        }
      },
      "source": [
        "banker.sum()"
      ],
      "execution_count": 6,
      "outputs": [
        {
          "output_type": "execute_result",
          "data": {
            "text/plain": [
              "728"
            ]
          },
          "metadata": {
            "tags": []
          },
          "execution_count": 6
        }
      ]
    },
    {
      "cell_type": "markdown",
      "metadata": {
        "id": "Mjy6LAfcnt5t"
      },
      "source": [
        "In this dataset, there are 728 bankers.\n",
        "\n",
        "To compute the *fraction* of bankers, we can use the `mean` function, which computes the fraction of `True` values in the `Series`:"
      ]
    },
    {
      "cell_type": "code",
      "metadata": {
        "execution": {
          "iopub.execute_input": "2021-04-16T19:35:09.108607Z",
          "iopub.status.busy": "2021-04-16T19:35:09.107935Z",
          "iopub.status.idle": "2021-04-16T19:35:09.110861Z",
          "shell.execute_reply": "2021-04-16T19:35:09.111310Z"
        },
        "id": "W5zLFI9hnt5u",
        "outputId": "c2bb6e7a-a6fd-4531-dc35-719b47bbf725",
        "colab": {
          "base_uri": "https://localhost:8080/"
        }
      },
      "source": [
        "banker.mean()"
      ],
      "execution_count": 7,
      "outputs": [
        {
          "output_type": "execute_result",
          "data": {
            "text/plain": [
              "0.014769730168391155"
            ]
          },
          "metadata": {
            "tags": []
          },
          "execution_count": 7
        }
      ]
    },
    {
      "cell_type": "markdown",
      "metadata": {
        "id": "sUgbR74Nnt59"
      },
      "source": [
        "About 1.5% of the respondents work in banking, so if we choose a random person from the dataset, the probability they are a banker is about 1.5%."
      ]
    },
    {
      "cell_type": "markdown",
      "metadata": {
        "id": "f6bJyk7jnt59"
      },
      "source": [
        "## The Probability Function\n",
        "\n",
        "I'll put the code from the previous section in a function that takes a Boolean series and returns a probability:"
      ]
    },
    {
      "cell_type": "code",
      "metadata": {
        "execution": {
          "iopub.execute_input": "2021-04-16T19:35:09.115436Z",
          "iopub.status.busy": "2021-04-16T19:35:09.114857Z",
          "iopub.status.idle": "2021-04-16T19:35:09.116926Z",
          "shell.execute_reply": "2021-04-16T19:35:09.117430Z"
        },
        "id": "T7tOTmRDnt59"
      },
      "source": [
        "def probability(A):\n",
        "    \"\"\"Computes the probability of a proposition, A.\"\"\"    \n",
        "    return A.mean()"
      ],
      "execution_count": 12,
      "outputs": []
    },
    {
      "cell_type": "markdown",
      "metadata": {
        "id": "h5N0h4Kant59"
      },
      "source": [
        "So we can compute the fraction of bankers like this:"
      ]
    },
    {
      "cell_type": "code",
      "metadata": {
        "execution": {
          "iopub.execute_input": "2021-04-16T19:35:09.121943Z",
          "iopub.status.busy": "2021-04-16T19:35:09.121067Z",
          "iopub.status.idle": "2021-04-16T19:35:09.124766Z",
          "shell.execute_reply": "2021-04-16T19:35:09.125312Z"
        },
        "id": "WGi1_qd2nt5-",
        "outputId": "f7a4c1fd-a4fa-4dcb-b529-dde89066ef07",
        "colab": {
          "base_uri": "https://localhost:8080/"
        }
      },
      "source": [
        "probability(banker)"
      ],
      "execution_count": 13,
      "outputs": [
        {
          "output_type": "execute_result",
          "data": {
            "text/plain": [
              "0.014769730168391155"
            ]
          },
          "metadata": {
            "tags": []
          },
          "execution_count": 13
        }
      ]
    },
    {
      "cell_type": "markdown",
      "metadata": {
        "id": "0rdeninZnt5-"
      },
      "source": [
        "Now let's look at another variable in this dataset.\n",
        "The values of the column `sex` are encoded like this:\n",
        "\n",
        "```\n",
        "1    Male\n",
        "2    Female\n",
        "```\n",
        "\n",
        "So we can make a Boolean series that is `True` for female respondents and `False` otherwise."
      ]
    },
    {
      "cell_type": "code",
      "metadata": {
        "execution": {
          "iopub.execute_input": "2021-04-16T19:35:09.133453Z",
          "iopub.status.busy": "2021-04-16T19:35:09.132833Z",
          "iopub.status.idle": "2021-04-16T19:35:09.135227Z",
          "shell.execute_reply": "2021-04-16T19:35:09.134787Z"
        },
        "id": "bH0Rr2t0nt5-"
      },
      "source": [
        "female = (gss['sex'] == 2)"
      ],
      "execution_count": 14,
      "outputs": []
    },
    {
      "cell_type": "markdown",
      "metadata": {
        "id": "a9gLb-85nt5-"
      },
      "source": [
        "And use it to compute the fraction of respondents who are women."
      ]
    },
    {
      "cell_type": "code",
      "metadata": {
        "execution": {
          "iopub.execute_input": "2021-04-16T19:35:09.138777Z",
          "iopub.status.busy": "2021-04-16T19:35:09.138234Z",
          "iopub.status.idle": "2021-04-16T19:35:09.140987Z",
          "shell.execute_reply": "2021-04-16T19:35:09.140543Z"
        },
        "id": "eXzshuP-nt5_",
        "outputId": "2ceb91b5-376c-4fba-f398-0c124ad27c7f",
        "colab": {
          "base_uri": "https://localhost:8080/"
        }
      },
      "source": [
        "probability(female)"
      ],
      "execution_count": 15,
      "outputs": [
        {
          "output_type": "execute_result",
          "data": {
            "text/plain": [
              "0.5378575776019476"
            ]
          },
          "metadata": {
            "tags": []
          },
          "execution_count": 15
        }
      ]
    },
    {
      "cell_type": "markdown",
      "metadata": {
        "id": "XU6Ad0tunt6A"
      },
      "source": [
        "The fraction of women in this dataset is higher than in the adult U.S. population because [the GSS does not include people living in institutions](https://gss.norc.org/faq) like prisons and military housing, and those populations are more likely to be male."
      ]
    },
    {
      "cell_type": "markdown",
      "metadata": {
        "id": "32QeOlsGnt6A"
      },
      "source": [
        "## Political Views and Parties\n",
        "\n",
        "The other variables we'll consider are `polviews`, which describes the political views of the respondents, and `partyid`, which describes their affiliation with a political party.\n",
        "\n",
        "The values of `polviews` are on a seven-point scale:\n",
        "\n",
        "```\n",
        "1\tExtremely liberal\n",
        "2\tLiberal\n",
        "3\tSlightly liberal\n",
        "4\tModerate\n",
        "5\tSlightly conservative\n",
        "6\tConservative\n",
        "7\tExtremely conservative\n",
        "```\n",
        "\n",
        "I'll define `liberal` to be `True` for anyone whose response is \"Extremely liberal\", \"Liberal\", or \"Slightly liberal\"."
      ]
    },
    {
      "cell_type": "code",
      "metadata": {
        "execution": {
          "iopub.execute_input": "2021-04-16T19:35:09.144820Z",
          "iopub.status.busy": "2021-04-16T19:35:09.144315Z",
          "iopub.status.idle": "2021-04-16T19:35:09.146158Z",
          "shell.execute_reply": "2021-04-16T19:35:09.146493Z"
        },
        "id": "_xOy4ykRnt6A"
      },
      "source": [
        "liberal = (gss['polviews'] <= 3)"
      ],
      "execution_count": 16,
      "outputs": []
    },
    {
      "cell_type": "markdown",
      "metadata": {
        "id": "tWuFE4oQnt6A"
      },
      "source": [
        "Here's the fraction of respondents who are liberal by this definition."
      ]
    },
    {
      "cell_type": "code",
      "metadata": {
        "execution": {
          "iopub.execute_input": "2021-04-16T19:35:09.150191Z",
          "iopub.status.busy": "2021-04-16T19:35:09.149628Z",
          "iopub.status.idle": "2021-04-16T19:35:09.152382Z",
          "shell.execute_reply": "2021-04-16T19:35:09.152013Z"
        },
        "id": "LZFQpTtRnt6A",
        "outputId": "0b176db7-619a-4d99-c560-fc5c534c3aba",
        "colab": {
          "base_uri": "https://localhost:8080/"
        }
      },
      "source": [
        "probability(liberal)"
      ],
      "execution_count": 17,
      "outputs": [
        {
          "output_type": "execute_result",
          "data": {
            "text/plain": [
              "0.27374721038750255"
            ]
          },
          "metadata": {
            "tags": []
          },
          "execution_count": 17
        }
      ]
    },
    {
      "cell_type": "markdown",
      "metadata": {
        "id": "5TziwKKent6B"
      },
      "source": [
        "If we choose a random person in this dataset, the probability they are liberal is about 27%."
      ]
    },
    {
      "cell_type": "markdown",
      "metadata": {
        "id": "DY7RBTXJnt6B"
      },
      "source": [
        "The values of `partyid` are encoded like this:\n",
        "\n",
        "```\n",
        "0\tStrong democrat\n",
        "1\tNot strong democrat\n",
        "2\tIndependent, near democrat\n",
        "3\tIndependent\n",
        "4\tIndependent, near republican\n",
        "5\tNot strong republican\n",
        "6\tStrong republican\n",
        "7\tOther party\n",
        "```\n",
        "\n",
        "I'll define `democrat` to include respondents who chose \"Strong democrat\" or \"Not strong democrat\":"
      ]
    },
    {
      "cell_type": "code",
      "metadata": {
        "execution": {
          "iopub.execute_input": "2021-04-16T19:35:09.156357Z",
          "iopub.status.busy": "2021-04-16T19:35:09.155780Z",
          "iopub.status.idle": "2021-04-16T19:35:09.158246Z",
          "shell.execute_reply": "2021-04-16T19:35:09.157752Z"
        },
        "id": "mKEt4ac9nt6B"
      },
      "source": [
        "democrat = (gss['partyid'] <= 1)"
      ],
      "execution_count": 18,
      "outputs": []
    },
    {
      "cell_type": "markdown",
      "metadata": {
        "id": "xOk8RtTKnt6B"
      },
      "source": [
        "And here's the fraction of respondents who are Democrats, by this definition."
      ]
    },
    {
      "cell_type": "code",
      "metadata": {
        "execution": {
          "iopub.execute_input": "2021-04-16T19:35:09.162885Z",
          "iopub.status.busy": "2021-04-16T19:35:09.162111Z",
          "iopub.status.idle": "2021-04-16T19:35:09.164826Z",
          "shell.execute_reply": "2021-04-16T19:35:09.165317Z"
        },
        "id": "BgKI5Ktint6C",
        "outputId": "0e6185e2-f98c-4a3c-c3a5-7e736d223193",
        "colab": {
          "base_uri": "https://localhost:8080/"
        }
      },
      "source": [
        "probability(democrat) * 100"
      ],
      "execution_count": 20,
      "outputs": [
        {
          "output_type": "execute_result",
          "data": {
            "text/plain": [
              "36.626090484885374"
            ]
          },
          "metadata": {
            "tags": []
          },
          "execution_count": 20
        }
      ]
    },
    {
      "cell_type": "markdown",
      "metadata": {
        "id": "zot-520Ent6C"
      },
      "source": [
        "## Conjunction\n",
        "\n",
        "Now that we have a definition of probability and a function that computes it, let's move on to conjunction.\n",
        "\n",
        "\"Conjunction\" is another name for the logical `and` operation.  If you have two [propositions](https://en.wikipedia.org/wiki/Proposition), `A` and `B`, the conjunction `A and B` is `True` if both `A` and `B` are `True`, and `False` otherwise.\n",
        "\n",
        "If we have two Boolean series, we can use the `&` operator to compute their conjunction.\n",
        "For example, we have already computed the probability that a respondent is a banker."
      ]
    },
    {
      "cell_type": "code",
      "metadata": {
        "execution": {
          "iopub.execute_input": "2021-04-16T19:35:09.169647Z",
          "iopub.status.busy": "2021-04-16T19:35:09.168929Z",
          "iopub.status.idle": "2021-04-16T19:35:09.171685Z",
          "shell.execute_reply": "2021-04-16T19:35:09.171252Z"
        },
        "id": "D0OV8Npent6C",
        "outputId": "2dd9de17-9ea3-49aa-9577-36b75c2e31c0",
        "colab": {
          "base_uri": "https://localhost:8080/"
        }
      },
      "source": [
        "probability(banker)"
      ],
      "execution_count": 21,
      "outputs": [
        {
          "output_type": "execute_result",
          "data": {
            "text/plain": [
              "0.014769730168391155"
            ]
          },
          "metadata": {
            "tags": []
          },
          "execution_count": 21
        }
      ]
    },
    {
      "cell_type": "markdown",
      "metadata": {
        "id": "s2085OoQnt6C"
      },
      "source": [
        "And the probability that they are a Democrat:"
      ]
    },
    {
      "cell_type": "code",
      "metadata": {
        "execution": {
          "iopub.execute_input": "2021-04-16T19:35:09.175131Z",
          "iopub.status.busy": "2021-04-16T19:35:09.174679Z",
          "iopub.status.idle": "2021-04-16T19:35:09.176933Z",
          "shell.execute_reply": "2021-04-16T19:35:09.177292Z"
        },
        "id": "PGWI8Jcknt6D",
        "outputId": "f0f382db-f1d1-4a10-c93d-f4e2acc3694e",
        "colab": {
          "base_uri": "https://localhost:8080/"
        }
      },
      "source": [
        "probability(democrat)"
      ],
      "execution_count": 22,
      "outputs": [
        {
          "output_type": "execute_result",
          "data": {
            "text/plain": [
              "0.3662609048488537"
            ]
          },
          "metadata": {
            "tags": []
          },
          "execution_count": 22
        }
      ]
    },
    {
      "cell_type": "markdown",
      "metadata": {
        "id": "kZk-bWG9nt6D"
      },
      "source": [
        "Now we can compute the probability that a respondent is a banker *and* a Democrat:"
      ]
    },
    {
      "cell_type": "code",
      "metadata": {
        "execution": {
          "iopub.execute_input": "2021-04-16T19:35:09.180713Z",
          "iopub.status.busy": "2021-04-16T19:35:09.180011Z",
          "iopub.status.idle": "2021-04-16T19:35:09.183970Z",
          "shell.execute_reply": "2021-04-16T19:35:09.183516Z"
        },
        "id": "0jdn13Funt6D",
        "outputId": "6a3541c8-8afa-415b-eb93-8dea641d8f0c",
        "colab": {
          "base_uri": "https://localhost:8080/"
        }
      },
      "source": [
        "probability(banker & democrat)"
      ],
      "execution_count": 23,
      "outputs": [
        {
          "output_type": "execute_result",
          "data": {
            "text/plain": [
              "0.004686548995739501"
            ]
          },
          "metadata": {
            "tags": []
          },
          "execution_count": 23
        }
      ]
    },
    {
      "cell_type": "markdown",
      "metadata": {
        "id": "Sjg0LIObnt6D"
      },
      "source": [
        "As we should expect, `prob(banker & democrat)` is less than `prob(banker)`, because not all bankers are Democrats.\n",
        "\n",
        "We expect conjunction to be commutative; that is, `A & B` should be the same as `B & A`.  To check, we can also compute `prob(democrat & banker)`:"
      ]
    },
    {
      "cell_type": "code",
      "metadata": {
        "execution": {
          "iopub.execute_input": "2021-04-16T19:35:09.187308Z",
          "iopub.status.busy": "2021-04-16T19:35:09.186747Z",
          "iopub.status.idle": "2021-04-16T19:35:09.189804Z",
          "shell.execute_reply": "2021-04-16T19:35:09.190185Z"
        },
        "id": "z9Y2vlbwnt6D",
        "outputId": "ceb0d856-bf7c-4623-cb30-dab90b40d811",
        "colab": {
          "base_uri": "https://localhost:8080/"
        }
      },
      "source": [
        "probability(democrat & banker)"
      ],
      "execution_count": 24,
      "outputs": [
        {
          "output_type": "execute_result",
          "data": {
            "text/plain": [
              "0.004686548995739501"
            ]
          },
          "metadata": {
            "tags": []
          },
          "execution_count": 24
        }
      ]
    },
    {
      "cell_type": "markdown",
      "metadata": {
        "id": "pZkgmYwmnt6E"
      },
      "source": [
        "As expected, they are the same."
      ]
    },
    {
      "cell_type": "markdown",
      "metadata": {
        "id": "jj3YrIIFnt6E"
      },
      "source": [
        "## Conditional Probability\n",
        "\n",
        "Conditional probability is a probability that depends on a condition, but that might not be the most helpful definition.  Here are some examples:\n",
        "\n",
        "* What is the probability that a respondent is a Democrat, given that they are liberal?\n",
        "\n",
        "* What is the probability that a respondent is female, given that they are a banker?\n",
        "\n",
        "* What is the probability that a respondent is liberal, given that they are female?\n",
        "\n",
        "Let's start with the first one, which we can interpret like this: \"Of all the respondents who are liberal, what fraction are Democrats?\"\n",
        "\n",
        "We can compute this probability in two steps:\n",
        "\n",
        "1. Select all respondents who are liberal.\n",
        "\n",
        "2. Compute the fraction of the selected respondents who are Democrats.\n",
        "\n",
        "To select liberal respondents, we can use the bracket operator, `[]`, like this:"
      ]
    },
    {
      "cell_type": "code",
      "metadata": {
        "execution": {
          "iopub.execute_input": "2021-04-16T19:35:09.193582Z",
          "iopub.status.busy": "2021-04-16T19:35:09.192986Z",
          "iopub.status.idle": "2021-04-16T19:35:09.196312Z",
          "shell.execute_reply": "2021-04-16T19:35:09.195843Z"
        },
        "id": "0LQVqx9lnt6E"
      },
      "source": [
        "selected = democrat[liberal]"
      ],
      "execution_count": 25,
      "outputs": []
    },
    {
      "cell_type": "markdown",
      "metadata": {
        "id": "yYcYoeaTnt6E"
      },
      "source": [
        "`selected` contains the values of `democrat` for liberal respondents, so `prob(selected)` is the fraction of liberals who are Democrats:"
      ]
    },
    {
      "cell_type": "code",
      "metadata": {
        "execution": {
          "iopub.execute_input": "2021-04-16T19:35:09.200734Z",
          "iopub.status.busy": "2021-04-16T19:35:09.199974Z",
          "iopub.status.idle": "2021-04-16T19:35:09.202760Z",
          "shell.execute_reply": "2021-04-16T19:35:09.203214Z"
        },
        "id": "Z-MDqvdTnt6F",
        "outputId": "398a679b-76c0-4b38-ea74-0434ce2a545f",
        "colab": {
          "base_uri": "https://localhost:8080/"
        }
      },
      "source": [
        "probability(selected)"
      ],
      "execution_count": 26,
      "outputs": [
        {
          "output_type": "execute_result",
          "data": {
            "text/plain": [
              "0.5206403320240125"
            ]
          },
          "metadata": {
            "tags": []
          },
          "execution_count": 26
        }
      ]
    },
    {
      "cell_type": "markdown",
      "metadata": {
        "id": "uWIu1lxZnt6F"
      },
      "source": [
        "A little more than half of liberals are Democrats.  If that result is lower than you expected, keep in mind:\n",
        "\n",
        "1. We used a somewhat strict definition of \"Democrat\", excluding Independents who \"lean\" democratic.\n",
        "\n",
        "2. The dataset includes respondents as far back as 1974; in the early part of this interval, there was less alignment between political views and party affiliation, compared to the present.\n",
        "\n",
        "Let's try the second example, \"What is the probability that a respondent is female, given that they are a banker?\"\n",
        "We can interpret that to mean, \"Of all respondents who are bankers, what fraction are female?\"\n",
        "\n",
        "Again, we'll use the bracket operator to select only the bankers and `prob` to compute the fraction that are female."
      ]
    },
    {
      "cell_type": "code",
      "metadata": {
        "execution": {
          "iopub.execute_input": "2021-04-16T19:35:09.206724Z",
          "iopub.status.busy": "2021-04-16T19:35:09.206015Z",
          "iopub.status.idle": "2021-04-16T19:35:09.209768Z",
          "shell.execute_reply": "2021-04-16T19:35:09.210120Z"
        },
        "id": "rYAlTlbAnt6F",
        "outputId": "f4b5a413-edda-4f1e-b743-9764b3e1f4ae",
        "colab": {
          "base_uri": "https://localhost:8080/"
        }
      },
      "source": [
        "selected = female[banker]\n",
        "probability(selected)"
      ],
      "execution_count": 27,
      "outputs": [
        {
          "output_type": "execute_result",
          "data": {
            "text/plain": [
              "0.7706043956043956"
            ]
          },
          "metadata": {
            "tags": []
          },
          "execution_count": 27
        }
      ]
    },
    {
      "cell_type": "markdown",
      "metadata": {
        "id": "Ncsbb2zont6G"
      },
      "source": [
        "About 77% of the bankers in this dataset are female.\n",
        "\n",
        "Let's wrap this computation in a function.\n",
        "I'll define `conditional` to take two Boolean series, `proposition` and `given`, and compute the conditional probability of `proposition` conditioned on `given`:"
      ]
    },
    {
      "cell_type": "code",
      "metadata": {
        "execution": {
          "iopub.execute_input": "2021-04-16T19:35:09.213058Z",
          "iopub.status.busy": "2021-04-16T19:35:09.212636Z",
          "iopub.status.idle": "2021-04-16T19:35:09.214860Z",
          "shell.execute_reply": "2021-04-16T19:35:09.214485Z"
        },
        "id": "z2qJO_0Unt6G"
      },
      "source": [
        "def conditional(proposition, given):\n",
        "    \"\"\"Probability of A conditioned on given.\"\"\"\n",
        "    return probability(proposition[given])"
      ],
      "execution_count": 28,
      "outputs": []
    },
    {
      "cell_type": "markdown",
      "metadata": {
        "id": "i-0K-E6nnt6G"
      },
      "source": [
        "We can use `conditional` to compute the probability that a respondent is liberal given that they are female."
      ]
    },
    {
      "cell_type": "code",
      "metadata": {
        "execution": {
          "iopub.execute_input": "2021-04-16T19:35:09.218614Z",
          "iopub.status.busy": "2021-04-16T19:35:09.218019Z",
          "iopub.status.idle": "2021-04-16T19:35:09.222351Z",
          "shell.execute_reply": "2021-04-16T19:35:09.221981Z"
        },
        "id": "9WDfcHNXnt6G",
        "outputId": "f70d6aa4-222f-47aa-c2e7-c707f745e53c",
        "colab": {
          "base_uri": "https://localhost:8080/"
        }
      },
      "source": [
        "conditional(liberal, given=female)"
      ],
      "execution_count": 29,
      "outputs": [
        {
          "output_type": "execute_result",
          "data": {
            "text/plain": [
              "0.27581004111500884"
            ]
          },
          "metadata": {
            "tags": []
          },
          "execution_count": 29
        }
      ]
    },
    {
      "cell_type": "markdown",
      "metadata": {
        "id": "2NWJE6RXnt6H"
      },
      "source": [
        "About 28% of female respondents are liberal.\n",
        "\n",
        "I included the keyword, `given`, along with the parameter, `female`, to make this expression more readable."
      ]
    },
    {
      "cell_type": "markdown",
      "metadata": {
        "id": "C4dTJXsxnt6H"
      },
      "source": [
        "## Conditional Probability Is Not Commutative\n",
        "\n",
        "We have seen that conjunction is commutative; that is, `prob(A & B)` is always equal to `prob(B & A)`.\n",
        "\n",
        "But conditional probability is *not* commutative; that is, `conditional(A, B)` is not the same as `conditional(B, A)`.\n",
        "\n",
        "That should be clear if we look at an example.  Previously, we computed the probability a respondent is female, given that they are banker."
      ]
    },
    {
      "cell_type": "code",
      "metadata": {
        "execution": {
          "iopub.execute_input": "2021-04-16T19:35:09.225222Z",
          "iopub.status.busy": "2021-04-16T19:35:09.224726Z",
          "iopub.status.idle": "2021-04-16T19:35:09.228199Z",
          "shell.execute_reply": "2021-04-16T19:35:09.227808Z"
        },
        "id": "ZhYnsgKxnt6H",
        "outputId": "0a56011d-ec8b-481a-f3b4-7fff5fc86fc9",
        "colab": {
          "base_uri": "https://localhost:8080/"
        }
      },
      "source": [
        "conditional(female, given=banker)"
      ],
      "execution_count": 30,
      "outputs": [
        {
          "output_type": "execute_result",
          "data": {
            "text/plain": [
              "0.7706043956043956"
            ]
          },
          "metadata": {
            "tags": []
          },
          "execution_count": 30
        }
      ]
    },
    {
      "cell_type": "markdown",
      "metadata": {
        "id": "fIEhUr1snt6H"
      },
      "source": [
        "The result shows that the majority of bankers are female.  That is not the same as the probability that a respondent is a banker, given that they are female:"
      ]
    },
    {
      "cell_type": "code",
      "metadata": {
        "execution": {
          "iopub.execute_input": "2021-04-16T19:35:09.231432Z",
          "iopub.status.busy": "2021-04-16T19:35:09.230897Z",
          "iopub.status.idle": "2021-04-16T19:35:09.235411Z",
          "shell.execute_reply": "2021-04-16T19:35:09.235854Z"
        },
        "id": "YAeUqTTKnt6I",
        "outputId": "196559d1-a1ee-4eed-a477-f8cd277c2cbf",
        "colab": {
          "base_uri": "https://localhost:8080/"
        }
      },
      "source": [
        "conditional(banker, given=female)"
      ],
      "execution_count": 31,
      "outputs": [
        {
          "output_type": "execute_result",
          "data": {
            "text/plain": [
              "0.02116102749801969"
            ]
          },
          "metadata": {
            "tags": []
          },
          "execution_count": 31
        }
      ]
    },
    {
      "cell_type": "markdown",
      "metadata": {
        "id": "Feq_tcg5nt6I"
      },
      "source": [
        "Only about 2% of female respondents are bankers.\n",
        "\n",
        "I hope this example makes it clear that conditional probability is not commutative, and maybe it was already clear to you.  Nevertheless, it is a common error to confuse `conditional(A, B)` and `conditional(B, A)`.  We'll see some examples later."
      ]
    },
    {
      "cell_type": "markdown",
      "metadata": {
        "id": "DIXmeqF1nt6I"
      },
      "source": [
        "## Condition and Conjunction\n",
        "\n",
        "We can combine conditional probability and conjunction.  For example, here's the probability a respondent is female, given that they are a liberal Democrat."
      ]
    },
    {
      "cell_type": "code",
      "metadata": {
        "execution": {
          "iopub.execute_input": "2021-04-16T19:35:09.239595Z",
          "iopub.status.busy": "2021-04-16T19:35:09.239062Z",
          "iopub.status.idle": "2021-04-16T19:35:09.244206Z",
          "shell.execute_reply": "2021-04-16T19:35:09.244621Z"
        },
        "id": "-NrbzbVInt6J",
        "outputId": "592d9512-b5aa-4b6e-d13d-5e7200d96468",
        "colab": {
          "base_uri": "https://localhost:8080/"
        }
      },
      "source": [
        "conditional(female, given=liberal & democrat)"
      ],
      "execution_count": 32,
      "outputs": [
        {
          "output_type": "execute_result",
          "data": {
            "text/plain": [
              "0.576085409252669"
            ]
          },
          "metadata": {
            "tags": []
          },
          "execution_count": 32
        }
      ]
    },
    {
      "cell_type": "markdown",
      "metadata": {
        "id": "i-lwvaLYnt6J"
      },
      "source": [
        "About 57% of liberal Democrats are female.\n",
        "\n",
        "And here's the probability they are a liberal female, given that they are a banker:"
      ]
    },
    {
      "cell_type": "code",
      "metadata": {
        "execution": {
          "iopub.execute_input": "2021-04-16T19:35:09.247749Z",
          "iopub.status.busy": "2021-04-16T19:35:09.247310Z",
          "iopub.status.idle": "2021-04-16T19:35:09.251132Z",
          "shell.execute_reply": "2021-04-16T19:35:09.250686Z"
        },
        "id": "5CaYBd9Vnt6J",
        "outputId": "2cae6048-d3b5-4fd0-d58d-95374554e7eb",
        "colab": {
          "base_uri": "https://localhost:8080/"
        }
      },
      "source": [
        "conditional(liberal & female, given=banker)"
      ],
      "execution_count": 33,
      "outputs": [
        {
          "output_type": "execute_result",
          "data": {
            "text/plain": [
              "0.17307692307692307"
            ]
          },
          "metadata": {
            "tags": []
          },
          "execution_count": 33
        }
      ]
    },
    {
      "cell_type": "markdown",
      "metadata": {
        "id": "uhRAr__Gnt6J"
      },
      "source": [
        "About 17% of bankers are liberal women."
      ]
    },
    {
      "cell_type": "markdown",
      "metadata": {
        "id": "mLU2C2osnt6J"
      },
      "source": [
        "## Laws of Probability\n",
        "\n",
        "In the next few sections, we'll derive three relationships between conjunction and conditional probability:\n",
        "\n",
        "* Theorem 1: Using a conjunction to compute a conditional probability.\n",
        "\n",
        "* Theorem 2: Using a conditional probability to compute a conjunction.\n",
        "\n",
        "* Theorem 3: Using `conditional(A, B)` to compute `conditional(B, A)`.\n",
        "\n",
        "Theorem 3 is also known as Bayes's Theorem.\n",
        "\n",
        "I'll write these theorems using mathematical notation for probability:\n",
        "\n",
        "* $P(A)$ is the probability of proposition $A$.\n",
        "\n",
        "* $P(A~\\mathrm{and}~B)$ is the probability of the conjunction of $A$ and $B$, that is, the probability that both are true.\n",
        "\n",
        "* $P(A | B)$ is the conditional probability of $A$ given that $B$ is true.  The vertical line between $A$ and $B$ is pronounced \"given\". \n",
        "\n",
        "With that, we are ready for Theorem 1."
      ]
    },
    {
      "cell_type": "markdown",
      "metadata": {
        "id": "-7Bo6a3ont6J"
      },
      "source": [
        "### Theorem 1\n",
        "\n",
        "What fraction of bankers are female?  We have already seen one way to compute the answer:\n",
        "\n",
        "1. Use the bracket operator to select the bankers, then\n",
        "\n",
        "2. Use `mean` to compute the fraction of bankers who are female.\n",
        "\n",
        "We can write these steps like this:"
      ]
    },
    {
      "cell_type": "code",
      "metadata": {
        "execution": {
          "iopub.execute_input": "2021-04-16T19:35:09.254022Z",
          "iopub.status.busy": "2021-04-16T19:35:09.253618Z",
          "iopub.status.idle": "2021-04-16T19:35:09.257836Z",
          "shell.execute_reply": "2021-04-16T19:35:09.258250Z"
        },
        "id": "SPd6uW-Jnt6J",
        "outputId": "3e7c050b-02ff-4ab5-8122-a414a7dbdb82",
        "colab": {
          "base_uri": "https://localhost:8080/"
        }
      },
      "source": [
        "female[banker].mean()"
      ],
      "execution_count": 34,
      "outputs": [
        {
          "output_type": "execute_result",
          "data": {
            "text/plain": [
              "0.7706043956043956"
            ]
          },
          "metadata": {
            "tags": []
          },
          "execution_count": 34
        }
      ]
    },
    {
      "cell_type": "markdown",
      "metadata": {
        "id": "vQdPohxknt6J"
      },
      "source": [
        "Or we can use the `conditional` function, which does the same thing:"
      ]
    },
    {
      "cell_type": "code",
      "metadata": {
        "execution": {
          "iopub.execute_input": "2021-04-16T19:35:09.261661Z",
          "iopub.status.busy": "2021-04-16T19:35:09.260776Z",
          "iopub.status.idle": "2021-04-16T19:35:09.264587Z",
          "shell.execute_reply": "2021-04-16T19:35:09.264191Z"
        },
        "id": "4ZH5tCGant6J",
        "outputId": "08b0c083-55d0-4b29-af6d-a4627caf3443",
        "colab": {
          "base_uri": "https://localhost:8080/"
        }
      },
      "source": [
        "conditional(female, given=banker)"
      ],
      "execution_count": 37,
      "outputs": [
        {
          "output_type": "execute_result",
          "data": {
            "text/plain": [
              "0.7706043956043956"
            ]
          },
          "metadata": {
            "tags": []
          },
          "execution_count": 37
        }
      ]
    },
    {
      "cell_type": "markdown",
      "metadata": {
        "id": "DAUExM0Ant6J"
      },
      "source": [
        "But there is another way to compute this conditional probability, by computing the ratio of two probabilities:\n",
        "\n",
        "1. The fraction of respondents who are female bankers, and\n",
        "\n",
        "2. The fraction of respondents who are bankers.\n",
        "\n",
        "In other words: of all the bankers, what fraction are female bankers?\n",
        "Here's how we compute this ratio."
      ]
    },
    {
      "cell_type": "code",
      "metadata": {
        "execution": {
          "iopub.execute_input": "2021-04-16T19:35:09.268221Z",
          "iopub.status.busy": "2021-04-16T19:35:09.267591Z",
          "iopub.status.idle": "2021-04-16T19:35:09.271822Z",
          "shell.execute_reply": "2021-04-16T19:35:09.271337Z"
        },
        "id": "0AZkWnvrnt6J",
        "outputId": "8ceab2d6-5129-445a-e682-fe73e6e7222d",
        "colab": {
          "base_uri": "https://localhost:8080/"
        }
      },
      "source": [
        "# CONTINUAR DAQUI\n",
        "probability(female & banker) / probability(banker)"
      ],
      "execution_count": 38,
      "outputs": [
        {
          "output_type": "execute_result",
          "data": {
            "text/plain": [
              "0.7706043956043956"
            ]
          },
          "metadata": {
            "tags": []
          },
          "execution_count": 38
        }
      ]
    },
    {
      "cell_type": "markdown",
      "metadata": {
        "id": "hJ9nCrz2nt6J"
      },
      "source": [
        "The result is the same.  This example demonstrates a general rule that relates conditional probability and conjunction.  Here's what it looks like in math notation:\n",
        "\n",
        "$$P(A|B) = \\frac{P(A~\\mathrm{and}~B)}{P(B)}$$\n",
        "\n",
        "And that's Theorem 1."
      ]
    },
    {
      "cell_type": "markdown",
      "metadata": {
        "id": "qH88KABunt6L"
      },
      "source": [
        "### Theorem 2\n",
        "\n",
        "If we start with Theorem 1 and multiply both sides by $P(B)$, we get Theorem 2.\n",
        "\n",
        "$$P(A~\\mathrm{and}~B) = P(B) ~ P(A|B)$$\n",
        "\n",
        "This formula suggests a second way to compute a conjunction: instead of using the `&` operator, we can compute the product of two probabilities.\n",
        "\n",
        "Let's see if it works for `liberal` and `democrat`.  Here's the result using `&`:"
      ]
    },
    {
      "cell_type": "code",
      "metadata": {
        "execution": {
          "iopub.execute_input": "2021-04-16T19:35:09.275335Z",
          "iopub.status.busy": "2021-04-16T19:35:09.274699Z",
          "iopub.status.idle": "2021-04-16T19:35:09.278134Z",
          "shell.execute_reply": "2021-04-16T19:35:09.277739Z"
        },
        "id": "JobWJvxint6L",
        "outputId": "e910b355-ef5d-4abf-f809-5bb852f620ff",
        "colab": {
          "base_uri": "https://localhost:8080/"
        }
      },
      "source": [
        "probability(liberal & democrat)"
      ],
      "execution_count": 39,
      "outputs": [
        {
          "output_type": "execute_result",
          "data": {
            "text/plain": [
              "0.1425238385067965"
            ]
          },
          "metadata": {
            "tags": []
          },
          "execution_count": 39
        }
      ]
    },
    {
      "cell_type": "markdown",
      "metadata": {
        "id": "USwseUTint6L"
      },
      "source": [
        "And here's the result using Theorem 2:"
      ]
    },
    {
      "cell_type": "code",
      "metadata": {
        "execution": {
          "iopub.execute_input": "2021-04-16T19:35:09.282010Z",
          "iopub.status.busy": "2021-04-16T19:35:09.281020Z",
          "iopub.status.idle": "2021-04-16T19:35:09.285790Z",
          "shell.execute_reply": "2021-04-16T19:35:09.286268Z"
        },
        "id": "dRqG8JE6nt6L",
        "outputId": "6ab0b770-1e6f-448c-8e51-d6eada5116ec",
        "colab": {
          "base_uri": "https://localhost:8080/"
        }
      },
      "source": [
        "probability(democrat) * conditional(liberal, given=democrat)"
      ],
      "execution_count": 41,
      "outputs": [
        {
          "output_type": "execute_result",
          "data": {
            "text/plain": [
              "0.1425238385067965"
            ]
          },
          "metadata": {
            "tags": []
          },
          "execution_count": 41
        }
      ]
    },
    {
      "cell_type": "markdown",
      "metadata": {
        "id": "RxbFCxLknt6L"
      },
      "source": [
        "They are the same."
      ]
    },
    {
      "cell_type": "markdown",
      "metadata": {
        "id": "gSFtLuKUnt6M"
      },
      "source": [
        "### Theorem 3\n",
        "\n",
        "We have established that conjunction is commutative.  In math notation, that means:\n",
        "\n",
        "$$P(A~\\mathrm{and}~B) = P(B~\\mathrm{and}~A)$$\n",
        "\n",
        "If we apply Theorem 2 to both sides, we have\n",
        "\n",
        "$$P(B) P(A|B) = P(A) P(B|A)$$\n",
        "\n",
        "Here's one way to interpret that: if you want to check $A$ and $B$, you can do it in either order:\n",
        "\n",
        "1. You can check $B$ first, then $A$ conditioned on $B$, or\n",
        "\n",
        "2. You can check $A$ first, then $B$ conditioned on $A$.\n",
        "\n",
        "If we divide through by $P(B)$, we get Theorem 3:\n",
        "\n",
        "$$P(A|B) = \\frac{P(A) P(B|A)}{P(B)}$$\n",
        "\n",
        "And that, my friends, is Bayes's Theorem.\n",
        "\n",
        "To see how it works, let's compute the fraction of bankers who are liberal, first using `conditional`:"
      ]
    },
    {
      "cell_type": "code",
      "metadata": {
        "execution": {
          "iopub.execute_input": "2021-04-16T19:35:09.289892Z",
          "iopub.status.busy": "2021-04-16T19:35:09.289327Z",
          "iopub.status.idle": "2021-04-16T19:35:09.292846Z",
          "shell.execute_reply": "2021-04-16T19:35:09.293307Z"
        },
        "id": "Fz6hykb1nt6M",
        "outputId": "504630a4-e0d1-479a-931f-ea9d2cccc20d",
        "colab": {
          "base_uri": "https://localhost:8080/"
        }
      },
      "source": [
        "conditional(liberal, given=banker)"
      ],
      "execution_count": 42,
      "outputs": [
        {
          "output_type": "execute_result",
          "data": {
            "text/plain": [
              "0.2239010989010989"
            ]
          },
          "metadata": {
            "tags": []
          },
          "execution_count": 42
        }
      ]
    },
    {
      "cell_type": "markdown",
      "metadata": {
        "id": "JZq-yE_knt6M"
      },
      "source": [
        "Now using Bayes's Theorem:"
      ]
    },
    {
      "cell_type": "code",
      "metadata": {
        "execution": {
          "iopub.execute_input": "2021-04-16T19:35:09.296917Z",
          "iopub.status.busy": "2021-04-16T19:35:09.296411Z",
          "iopub.status.idle": "2021-04-16T19:35:09.302183Z",
          "shell.execute_reply": "2021-04-16T19:35:09.301729Z"
        },
        "id": "_YSzvG2Vnt6M",
        "outputId": "14509457-6168-413f-b54f-8e4687a23da7",
        "colab": {
          "base_uri": "https://localhost:8080/"
        }
      },
      "source": [
        "probability(liberal) * conditional(banker, liberal) / probability(banker)"
      ],
      "execution_count": 43,
      "outputs": [
        {
          "output_type": "execute_result",
          "data": {
            "text/plain": [
              "0.2239010989010989"
            ]
          },
          "metadata": {
            "tags": []
          },
          "execution_count": 43
        }
      ]
    },
    {
      "cell_type": "markdown",
      "metadata": {
        "id": "Q3qAQdLAnt6M"
      },
      "source": [
        "They are the same."
      ]
    },
    {
      "cell_type": "markdown",
      "metadata": {
        "id": "02hVPvI1nt6P"
      },
      "source": [
        "### The Law of Total Probability\n",
        "\n",
        "In addition to these three theorems, there's one more thing we'll need to do Bayesian statistics: the law of total probability.\n",
        "Here's one form of the law, expressed in mathematical notation:\n",
        "\n",
        "$$P(A) = P(B_1 \\mathrm{and} A) + P(B_2 \\mathrm{and} A)$$\n",
        "\n",
        "In words, the total probability of $A$ is the sum of two possibilities: either $B_1$ and $A$ are true or $B_2$ and $A$ are true.\n",
        "But this law applies only if $B_1$ and $B_2$ are:\n",
        "\n",
        "* Mutually exclusive, which means that only one of them can be true, and\n",
        "\n",
        "* Collectively exhaustive, which means that one of them must be true.\n",
        "\n",
        "As an example, let's use this law to compute the probability that a respondent is a banker.\n",
        "We can compute it directly like this:"
      ]
    },
    {
      "cell_type": "code",
      "metadata": {
        "execution": {
          "iopub.execute_input": "2021-04-16T19:35:09.306120Z",
          "iopub.status.busy": "2021-04-16T19:35:09.305480Z",
          "iopub.status.idle": "2021-04-16T19:35:09.308555Z",
          "shell.execute_reply": "2021-04-16T19:35:09.309041Z"
        },
        "id": "9GZnSoZEnt6Q",
        "outputId": "02f5a571-d932-4cee-fb59-26ad5a1cccea",
        "colab": {
          "base_uri": "https://localhost:8080/"
        }
      },
      "source": [
        "probability(banker)"
      ],
      "execution_count": 44,
      "outputs": [
        {
          "output_type": "execute_result",
          "data": {
            "text/plain": [
              "0.014769730168391155"
            ]
          },
          "metadata": {
            "tags": []
          },
          "execution_count": 44
        }
      ]
    },
    {
      "cell_type": "markdown",
      "metadata": {
        "id": "uSJ7LRBWnt6R"
      },
      "source": [
        "So let's confirm that we get the same thing if we compute male and female bankers separately.\n",
        "\n",
        "In this dataset all respondents are designated male or female.  Recently, the GSS Board of Overseers announced that they will add more inclusive gender questions to the survey (you can read more about this issue, and their decision, at <https://gender.stanford.edu/news-publications/gender-news/more-inclusive-gender-questions-added-general-social-survey>.\n",
        "\n",
        "\n",
        "We already have a Boolean `Series` that is `True` for female respondents.\n",
        "Here's the complementary `Series` for male respondents."
      ]
    },
    {
      "cell_type": "code",
      "metadata": {
        "execution": {
          "iopub.execute_input": "2021-04-16T19:35:09.313714Z",
          "iopub.status.busy": "2021-04-16T19:35:09.312851Z",
          "iopub.status.idle": "2021-04-16T19:35:09.315579Z",
          "shell.execute_reply": "2021-04-16T19:35:09.315077Z"
        },
        "id": "sDOx48hunt6S"
      },
      "source": [
        "male = (gss['sex'] == 1)"
      ],
      "execution_count": 45,
      "outputs": []
    },
    {
      "cell_type": "markdown",
      "metadata": {
        "id": "NLq4Cm-ant6S"
      },
      "source": [
        "Now we can compute the total probability of `banker` like this. "
      ]
    },
    {
      "cell_type": "code",
      "metadata": {
        "execution": {
          "iopub.execute_input": "2021-04-16T19:35:09.320293Z",
          "iopub.status.busy": "2021-04-16T19:35:09.319613Z",
          "iopub.status.idle": "2021-04-16T19:35:09.323814Z",
          "shell.execute_reply": "2021-04-16T19:35:09.324375Z"
        },
        "id": "WyVoUnz2nt6S",
        "outputId": "a142ef10-a03d-4dda-ae31-c2ed99359df7",
        "colab": {
          "base_uri": "https://localhost:8080/"
        }
      },
      "source": [
        "probability(male & banker) + probability(female & banker)"
      ],
      "execution_count": 46,
      "outputs": [
        {
          "output_type": "execute_result",
          "data": {
            "text/plain": [
              "0.014769730168391155"
            ]
          },
          "metadata": {
            "tags": []
          },
          "execution_count": 46
        }
      ]
    },
    {
      "cell_type": "markdown",
      "metadata": {
        "id": "afOAwmwfnt6T"
      },
      "source": [
        "Because `male` and `female` are mutually exclusive and collectively exhaustive (MECE), we get the same result we got by computing the probability of `banker` directly.\n",
        "\n",
        "Applying Theorem 2, we can also write the law of total probability like this:\n",
        "\n",
        "$$P(A) = P(B_1) P(A|B_1) + P(B_2) P(A|B_2)$$\n",
        "\n",
        "And we can test it with the same example:"
      ]
    },
    {
      "cell_type": "code",
      "metadata": {
        "execution": {
          "iopub.execute_input": "2021-04-16T19:35:09.330125Z",
          "iopub.status.busy": "2021-04-16T19:35:09.328968Z",
          "iopub.status.idle": "2021-04-16T19:35:09.336156Z",
          "shell.execute_reply": "2021-04-16T19:35:09.335726Z"
        },
        "id": "tU6EulA7nt6T",
        "outputId": "62741f6c-ef24-43e2-c1f9-fe9779d98309",
        "colab": {
          "base_uri": "https://localhost:8080/"
        }
      },
      "source": [
        "(probability(male) * conditional(banker, given=male) +\n",
        "probability(female) * conditional(banker, given=female))"
      ],
      "execution_count": 47,
      "outputs": [
        {
          "output_type": "execute_result",
          "data": {
            "text/plain": [
              "0.014769730168391153"
            ]
          },
          "metadata": {
            "tags": []
          },
          "execution_count": 47
        }
      ]
    },
    {
      "cell_type": "markdown",
      "metadata": {
        "id": "HsgKiYpnnt6U"
      },
      "source": [
        "When there are more than two conditions, it is more concise to write the law of total probability as a summation:\n",
        "\n",
        "$$P(A) = \\sum_i P(B_i) P(A|B_i)$$\n",
        "\n",
        "Again, this holds as long as the conditions, $B_i$ are mutually exclusive and collectively exhaustive.\n",
        "As an example, let's consider `polviews`, which has seven different values."
      ]
    },
    {
      "cell_type": "code",
      "metadata": {
        "execution": {
          "iopub.execute_input": "2021-04-16T19:35:09.340326Z",
          "iopub.status.busy": "2021-04-16T19:35:09.339575Z",
          "iopub.status.idle": "2021-04-16T19:35:09.345569Z",
          "shell.execute_reply": "2021-04-16T19:35:09.345920Z"
        },
        "id": "W35MVDaXnt6U",
        "outputId": "0fe255d0-ffbf-40ef-e195-204123237266",
        "colab": {
          "base_uri": "https://localhost:8080/"
        }
      },
      "source": [
        "B = gss['polviews']\n",
        "B.value_counts().sort_index()"
      ],
      "execution_count": 48,
      "outputs": [
        {
          "output_type": "execute_result",
          "data": {
            "text/plain": [
              "1.0     1442\n",
              "2.0     5808\n",
              "3.0     6243\n",
              "4.0    18943\n",
              "5.0     7940\n",
              "6.0     7319\n",
              "7.0     1595\n",
              "Name: polviews, dtype: int64"
            ]
          },
          "metadata": {
            "tags": []
          },
          "execution_count": 48
        }
      ]
    },
    {
      "cell_type": "markdown",
      "metadata": {
        "id": "i6v-orNXnt6V"
      },
      "source": [
        "On this scale, `4.0` represents \"Moderate\".\n",
        "So we can compute the probability of a moderate banker like this:"
      ]
    },
    {
      "cell_type": "code",
      "metadata": {
        "execution": {
          "iopub.execute_input": "2021-04-16T19:35:09.349523Z",
          "iopub.status.busy": "2021-04-16T19:35:09.348794Z",
          "iopub.status.idle": "2021-04-16T19:35:09.354627Z",
          "shell.execute_reply": "2021-04-16T19:35:09.354093Z"
        },
        "id": "ENkJZXa4nt6V",
        "outputId": "836a9310-e030-4f9c-bcb5-cba529bef9c8",
        "colab": {
          "base_uri": "https://localhost:8080/"
        }
      },
      "source": [
        "i = 4\n",
        "probability(B==i) * conditional(banker, B==i)"
      ],
      "execution_count": 63,
      "outputs": [
        {
          "output_type": "execute_result",
          "data": {
            "text/plain": [
              "0.005822682085615744"
            ]
          },
          "metadata": {
            "tags": []
          },
          "execution_count": 63
        }
      ]
    },
    {
      "cell_type": "markdown",
      "metadata": {
        "id": "qI0gHpK5nt6V"
      },
      "source": [
        "And we can use `sum` and a [generator expression](https://www.johndcook.com/blog/2020/01/15/generator-expression/) to compute the summation."
      ]
    },
    {
      "cell_type": "code",
      "metadata": {
        "execution": {
          "iopub.execute_input": "2021-04-16T19:35:09.358978Z",
          "iopub.status.busy": "2021-04-16T19:35:09.358491Z",
          "iopub.status.idle": "2021-04-16T19:35:09.371125Z",
          "shell.execute_reply": "2021-04-16T19:35:09.370597Z"
        },
        "id": "4Lh32iCjnt6V",
        "outputId": "caee59f9-bc29-4501-cb6c-167d14077188",
        "colab": {
          "base_uri": "https://localhost:8080/"
        }
      },
      "source": [
        "sum(probability(B==i) * conditional(banker, B==i) for i in range(1, 8))\n",
        "\n",
        "for i in range(1, 8):\n",
        "  print(f\"{i}: {probability(B==i) * conditional(banker, B==i)}\")\n",
        "# summation = sum([probability(B==i) * conditional(banker, B==i) for i in range(1, 8)])\n",
        "# summation"
      ],
      "execution_count": 68,
      "outputs": [
        {
          "output_type": "stream",
          "text": [
            "1: 0.0002231689997971191\n",
            "2: 0.0014404544532359506\n",
            "3: 0.0016433353621424225\n",
            "4: 0.005822682085615744\n",
            "5: 0.002860620815581254\n",
            "6: 0.002333130452424427\n",
            "7: 0.0004463379995942382\n"
          ],
          "name": "stdout"
        }
      ]
    },
    {
      "cell_type": "markdown",
      "metadata": {
        "id": "GUFAs8A9nt6W"
      },
      "source": [
        "The result is the same.\n",
        "\n",
        "In this example, using the law of total probability is a lot more work than computing the probability directly, but it will turn out to be useful, I promise."
      ]
    },
    {
      "cell_type": "markdown",
      "metadata": {
        "id": "y46KnvL_nt6W"
      },
      "source": [
        "## Summary\n",
        "\n",
        "Here's what we have so far:\n",
        "\n",
        "**Theorem 1** gives us a way to compute a conditional probability using a conjunction:\n",
        "\n",
        "$$P(A|B) = \\frac{P(A~\\mathrm{and}~B)}{P(B)}$$\n",
        "\n",
        "**Theorem 2** gives us a way to compute a conjunction using a conditional probability:\n",
        "\n",
        "$$P(A~\\mathrm{and}~B) = P(B) P(A|B)$$\n",
        "\n",
        "**Theorem 3**, also known as Bayes's Theorem, gives us a way to get from $P(A|B)$ to $P(B|A)$, or the other way around:\n",
        "\n",
        "$$P(A|B) = \\frac{P(A) P(B|A)}{P(B)}$$\n",
        "\n",
        "**The Law of Total Probability** provides a way to compute probabilities by adding up the pieces:\n",
        "\n",
        "$$P(A) = \\sum_i P(B_i) P(A|B_i)$$\n",
        "\n",
        "At this point you might ask, \"So what?\"  If we have all of the data, we can compute any probability we want, any conjunction, or any conditional probability, just by counting.  We don't have to use these formulas.\n",
        "\n",
        "And you are right, *if* we have all of the data.  But often we don't, and in that case, these formulas can be pretty useful -- especially Bayes's Theorem.\n",
        "In the next chapter, we'll see how."
      ]
    },
    {
      "cell_type": "markdown",
      "metadata": {
        "id": "mXevAV0znt6Y"
      },
      "source": [
        "## Exercises"
      ]
    },
    {
      "cell_type": "markdown",
      "metadata": {
        "id": "kSWf1XFGnt6Y"
      },
      "source": [
        "**Exercise:** Let's use the tools in this chapter to solve a variation of the Linda problem.\n",
        "\n",
        "> Linda is 31 years old, single, outspoken, and very bright. She majored in philosophy. As a student, she was deeply concerned with issues of discrimination and social justice, and also participated in anti-nuclear demonstrations.  Which is more probable?\n",
        "> 1. Linda is a banker.\n",
        "> 2. Linda is a banker and considers herself a liberal Democrat.\n",
        "\n",
        "To answer this question, compute \n",
        "\n",
        "* The probability that Linda is a female banker,\n",
        "\n",
        "* The probability that Linda is a liberal female banker, and\n",
        "\n",
        "* The probability that Linda is a liberal female banker and a Democrat."
      ]
    },
    {
      "cell_type": "code",
      "metadata": {
        "execution": {
          "iopub.execute_input": "2021-04-16T19:35:09.375687Z",
          "iopub.status.busy": "2021-04-16T19:35:09.374854Z",
          "iopub.status.idle": "2021-04-16T19:35:09.379273Z",
          "shell.execute_reply": "2021-04-16T19:35:09.378643Z"
        },
        "id": "VdZLBLdQnt6Y",
        "outputId": "f557eeaf-42e9-43ce-965b-7d6acfcdf2a9",
        "colab": {
          "base_uri": "https://localhost:8080/"
        }
      },
      "source": [
        "# Solution goes here\n",
        "# The probability that Linda is a female banker,\n",
        "# conditional(female, given=banker)\n",
        "probability(female & banker)"
      ],
      "execution_count": 89,
      "outputs": [
        {
          "output_type": "execute_result",
          "data": {
            "text/plain": [
              "0.011381618989653074"
            ]
          },
          "metadata": {
            "tags": []
          },
          "execution_count": 89
        }
      ]
    },
    {
      "cell_type": "code",
      "metadata": {
        "execution": {
          "iopub.execute_input": "2021-04-16T19:35:09.383986Z",
          "iopub.status.busy": "2021-04-16T19:35:09.383142Z",
          "iopub.status.idle": "2021-04-16T19:35:09.386942Z",
          "shell.execute_reply": "2021-04-16T19:35:09.387425Z"
        },
        "id": "eQFqGxTCnt6Y",
        "outputId": "40540783-66b5-4630-a697-857bba13e119",
        "colab": {
          "base_uri": "https://localhost:8080/"
        }
      },
      "source": [
        "# Solution goes here\n",
        "# The probability that Linda is a liberal female banker, and\n",
        "probability(liberal & female & banker)"
      ],
      "execution_count": 92,
      "outputs": [
        {
          "output_type": "execute_result",
          "data": {
            "text/plain": [
              "0.002556299452221546"
            ]
          },
          "metadata": {
            "tags": []
          },
          "execution_count": 92
        }
      ]
    },
    {
      "cell_type": "code",
      "metadata": {
        "execution": {
          "iopub.execute_input": "2021-04-16T19:35:09.391539Z",
          "iopub.status.busy": "2021-04-16T19:35:09.390944Z",
          "iopub.status.idle": "2021-04-16T19:35:09.395260Z",
          "shell.execute_reply": "2021-04-16T19:35:09.395740Z"
        },
        "id": "uFta2drcnt6Y",
        "outputId": "9f4a7770-74db-4ae8-a4c6-2714a4cb6e26",
        "colab": {
          "base_uri": "https://localhost:8080/"
        }
      },
      "source": [
        "# Solution goes here\n",
        "# The probability that Linda is a liberal female banker and a Democrat.\n",
        "probability(liberal & democrat & female & banker)"
      ],
      "execution_count": 93,
      "outputs": [
        {
          "output_type": "execute_result",
          "data": {
            "text/plain": [
              "0.0012375735443294787"
            ]
          },
          "metadata": {
            "tags": []
          },
          "execution_count": 93
        }
      ]
    },
    {
      "cell_type": "markdown",
      "metadata": {
        "id": "xRA59L7Cnt6Z"
      },
      "source": [
        "**Exercise:** Use `conditional` to compute the following probabilities:\n",
        "\n",
        "* What is the probability that a respondent is liberal, given that they are a Democrat?\n",
        "\n",
        "* What is the probability that a respondent is a Democrat, given that they are liberal?\n",
        "\n",
        "Think carefully about the order of the arguments you pass to `conditional`."
      ]
    },
    {
      "cell_type": "code",
      "metadata": {
        "execution": {
          "iopub.execute_input": "2021-04-16T19:35:09.399461Z",
          "iopub.status.busy": "2021-04-16T19:35:09.398872Z",
          "iopub.status.idle": "2021-04-16T19:35:09.403442Z",
          "shell.execute_reply": "2021-04-16T19:35:09.403943Z"
        },
        "id": "R_6XXgDRnt6Z",
        "outputId": "a21f8d28-48df-4250-cf0d-1a929b4b16fa",
        "colab": {
          "base_uri": "https://localhost:8080/"
        }
      },
      "source": [
        "# Solution goes here\n",
        "# What is the probability that a respondent is liberal, given that they are a Democrat?\n",
        "conditional(liberal, given=democrat)"
      ],
      "execution_count": 94,
      "outputs": [
        {
          "output_type": "execute_result",
          "data": {
            "text/plain": [
              "0.3891320002215698"
            ]
          },
          "metadata": {
            "tags": []
          },
          "execution_count": 94
        }
      ]
    },
    {
      "cell_type": "code",
      "metadata": {
        "execution": {
          "iopub.execute_input": "2021-04-16T19:35:09.407668Z",
          "iopub.status.busy": "2021-04-16T19:35:09.407123Z",
          "iopub.status.idle": "2021-04-16T19:35:09.411160Z",
          "shell.execute_reply": "2021-04-16T19:35:09.411604Z"
        },
        "id": "eTxC378Ent6Z",
        "outputId": "123e8061-dd37-48bb-b005-f6d8a8ba6fdb",
        "colab": {
          "base_uri": "https://localhost:8080/"
        }
      },
      "source": [
        "# Solution goes here\n",
        "# What is the probability that a respondent is a Democrat, given that they are liberal?\n",
        "conditional(democrat, given=liberal)"
      ],
      "execution_count": 95,
      "outputs": [
        {
          "output_type": "execute_result",
          "data": {
            "text/plain": [
              "0.5206403320240125"
            ]
          },
          "metadata": {
            "tags": []
          },
          "execution_count": 95
        }
      ]
    },
    {
      "cell_type": "markdown",
      "metadata": {
        "id": "gBbae8C-nt6Z"
      },
      "source": [
        "**Exercise:** There's a [famous quote](https://quoteinvestigator.com/2014/02/24/heart-head/) about young people, old people, liberals, and conservatives that goes something like:\n",
        "\n",
        "> If you are not a liberal at 25, you have no heart. If you are not a conservative at 35, you have no brain.\n",
        "\n",
        "Whether you agree with this proposition or not, it suggests some probabilities we can compute as an exercise.\n",
        "Rather than use the specific ages 25 and 35, let's define `young` and `old` as under 30 or over 65:"
      ]
    },
    {
      "cell_type": "code",
      "metadata": {
        "execution": {
          "iopub.execute_input": "2021-04-16T19:35:09.415701Z",
          "iopub.status.busy": "2021-04-16T19:35:09.415139Z",
          "iopub.status.idle": "2021-04-16T19:35:09.418451Z",
          "shell.execute_reply": "2021-04-16T19:35:09.418810Z"
        },
        "id": "fg79GBDCnt6Z",
        "outputId": "3a39fd76-b6f1-42f7-9146-938b1822de46",
        "colab": {
          "base_uri": "https://localhost:8080/"
        }
      },
      "source": [
        "young = (gss['age'] < 30)\n",
        "probability(young)"
      ],
      "execution_count": 96,
      "outputs": [
        {
          "output_type": "execute_result",
          "data": {
            "text/plain": [
              "0.19435991073240008"
            ]
          },
          "metadata": {
            "tags": []
          },
          "execution_count": 96
        }
      ]
    },
    {
      "cell_type": "code",
      "metadata": {
        "execution": {
          "iopub.execute_input": "2021-04-16T19:35:09.423028Z",
          "iopub.status.busy": "2021-04-16T19:35:09.422417Z",
          "iopub.status.idle": "2021-04-16T19:35:09.425586Z",
          "shell.execute_reply": "2021-04-16T19:35:09.425960Z"
        },
        "id": "gVvFkZ5Fnt6a",
        "outputId": "0f0d7c55-47ce-4645-86ea-c0e353e704b0",
        "colab": {
          "base_uri": "https://localhost:8080/"
        }
      },
      "source": [
        "old = (gss['age'] >= 65)\n",
        "probability(old)"
      ],
      "execution_count": 97,
      "outputs": [
        {
          "output_type": "execute_result",
          "data": {
            "text/plain": [
              "0.17328058429701765"
            ]
          },
          "metadata": {
            "tags": []
          },
          "execution_count": 97
        }
      ]
    },
    {
      "cell_type": "markdown",
      "metadata": {
        "id": "v6_yfVoGnt6a"
      },
      "source": [
        "For these thresholds, I chose round numbers near the 20th and 80th percentiles.  Depending on your age, you may or may not agree with these definitions of \"young\" and \"old\".\n",
        "\n",
        "I'll define `conservative` as someone whose political views are \"Conservative\", \"Slightly Conservative\", or \"Extremely Conservative\"."
      ]
    },
    {
      "cell_type": "code",
      "metadata": {
        "execution": {
          "iopub.execute_input": "2021-04-16T19:35:09.429448Z",
          "iopub.status.busy": "2021-04-16T19:35:09.428975Z",
          "iopub.status.idle": "2021-04-16T19:35:09.432387Z",
          "shell.execute_reply": "2021-04-16T19:35:09.432875Z"
        },
        "id": "f2pJgto_nt6a",
        "outputId": "fe2ffcb2-4367-4b4b-b194-996839e58739",
        "colab": {
          "base_uri": "https://localhost:8080/"
        }
      },
      "source": [
        "conservative = (gss['polviews'] >= 5)\n",
        "probability(conservative)"
      ],
      "execution_count": 98,
      "outputs": [
        {
          "output_type": "execute_result",
          "data": {
            "text/plain": [
              "0.3419354838709677"
            ]
          },
          "metadata": {
            "tags": []
          },
          "execution_count": 98
        }
      ]
    },
    {
      "cell_type": "markdown",
      "metadata": {
        "id": "rUuojDSNnt6a"
      },
      "source": [
        "Use `prob` and `conditional` to compute the following probabilities.\n",
        "\n",
        "* What is the probability that a randomly chosen respondent is a young liberal?\n",
        "\n",
        "* What is the probability that a young person is liberal?\n",
        "\n",
        "* What fraction of respondents are old conservatives?\n",
        "\n",
        "* What fraction of conservatives are old?\n",
        "\n",
        "For each statement, think about whether it is expressing a conjunction, a conditional probability, or both.\n",
        "\n",
        "For the conditional probabilities, be careful about the order of the arguments.\n",
        "If your answer to the last question is greater than 30%, you have it backwards!"
      ]
    },
    {
      "cell_type": "code",
      "metadata": {
        "execution": {
          "iopub.execute_input": "2021-04-16T19:35:09.436838Z",
          "iopub.status.busy": "2021-04-16T19:35:09.436245Z",
          "iopub.status.idle": "2021-04-16T19:35:09.439984Z",
          "shell.execute_reply": "2021-04-16T19:35:09.440468Z"
        },
        "id": "oOfB4NPRnt6a",
        "outputId": "d20e9647-4e4a-46cd-8b00-626f46f6dcf9",
        "colab": {
          "base_uri": "https://localhost:8080/"
        }
      },
      "source": [
        "# Solution goes here\n",
        "# What is the probability that a randomly chosen respondent is a young liberal?\n",
        "probability(young & liberal)"
      ],
      "execution_count": 99,
      "outputs": [
        {
          "output_type": "execute_result",
          "data": {
            "text/plain": [
              "0.06579427875836884"
            ]
          },
          "metadata": {
            "tags": []
          },
          "execution_count": 99
        }
      ]
    },
    {
      "cell_type": "code",
      "metadata": {
        "execution": {
          "iopub.execute_input": "2021-04-16T19:35:09.443827Z",
          "iopub.status.busy": "2021-04-16T19:35:09.443300Z",
          "iopub.status.idle": "2021-04-16T19:35:09.447774Z",
          "shell.execute_reply": "2021-04-16T19:35:09.447317Z"
        },
        "id": "Fif-x-xant6a",
        "outputId": "08af47f5-311d-4b1e-c192-d050641fc42f",
        "colab": {
          "base_uri": "https://localhost:8080/"
        }
      },
      "source": [
        "# Solution goes here\n",
        "# What is the probability that a young person is liberal?\n",
        "conditional(liberal, given=young)"
      ],
      "execution_count": 85,
      "outputs": [
        {
          "output_type": "execute_result",
          "data": {
            "text/plain": [
              "0.338517745302714"
            ]
          },
          "metadata": {
            "tags": []
          },
          "execution_count": 85
        }
      ]
    },
    {
      "cell_type": "code",
      "metadata": {
        "execution": {
          "iopub.execute_input": "2021-04-16T19:35:09.451326Z",
          "iopub.status.busy": "2021-04-16T19:35:09.450505Z",
          "iopub.status.idle": "2021-04-16T19:35:09.455557Z",
          "shell.execute_reply": "2021-04-16T19:35:09.455085Z"
        },
        "id": "HUcPABpKnt6b",
        "outputId": "f4f46931-7e31-4ae7-c19d-67a89d8dcf55",
        "colab": {
          "base_uri": "https://localhost:8080/"
        }
      },
      "source": [
        "# Solution goes here\n",
        "# What fraction of respondents are old conservatives?\n",
        "probability(old & conservative)"
      ],
      "execution_count": 100,
      "outputs": [
        {
          "output_type": "execute_result",
          "data": {
            "text/plain": [
              "0.06701156421180766"
            ]
          },
          "metadata": {
            "tags": []
          },
          "execution_count": 100
        }
      ]
    },
    {
      "cell_type": "code",
      "metadata": {
        "execution": {
          "iopub.execute_input": "2021-04-16T19:35:09.458973Z",
          "iopub.status.busy": "2021-04-16T19:35:09.458445Z",
          "iopub.status.idle": "2021-04-16T19:35:09.462616Z",
          "shell.execute_reply": "2021-04-16T19:35:09.463061Z"
        },
        "id": "oBH5UV9Vnt6b",
        "outputId": "1cbbd2c7-fbb9-4fd2-dde2-fd96a226bc9c",
        "colab": {
          "base_uri": "https://localhost:8080/"
        }
      },
      "source": [
        "# Solution goes here\n",
        "# What fraction of conservatives are old?\n",
        "conditional(old, given=conservative)"
      ],
      "execution_count": 101,
      "outputs": [
        {
          "output_type": "execute_result",
          "data": {
            "text/plain": [
              "0.19597721609113564"
            ]
          },
          "metadata": {
            "tags": []
          },
          "execution_count": 101
        }
      ]
    },
    {
      "cell_type": "markdown",
      "metadata": {
        "id": "fROok72-nt6b"
      },
      "source": [
        ""
      ]
    }
  ]
}